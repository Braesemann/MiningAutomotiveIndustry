{
 "cells": [
  {
   "cell_type": "markdown",
   "metadata": {},
   "source": [
    "# Clean Up Edges"
   ]
  },
  {
   "cell_type": "markdown",
   "metadata": {},
   "source": [
    "## Load Nodes and Edges"
   ]
  },
  {
   "cell_type": "code",
   "execution_count": 8,
   "metadata": {},
   "outputs": [],
   "source": [
    "import urllib\n",
    "import urllib.request\n",
    "import requests\n",
    "from bs4 import BeautifulSoup\n",
    "from collections import deque\n",
    "import csv\n",
    "\n",
    "import json\n",
    "import sys\n",
    "import re\n",
    "import numpy as np\n",
    "\n",
    "import networkx as nx\n",
    "import matplotlib.pyplot as plt"
   ]
  },
  {
   "cell_type": "code",
   "execution_count": 9,
   "metadata": {},
   "outputs": [],
   "source": [
    "domain_name = \"global\""
   ]
  },
  {
   "cell_type": "code",
   "execution_count": 11,
   "metadata": {},
   "outputs": [
    {
     "name": "stdout",
     "output_type": "stream",
     "text": [
      "n_old_edges: 332690    ---   n_remaining_edges: 155934    ---   left: 0.46870660374522827 %\n"
     ]
    }
   ],
   "source": [
    "## get nodes____________________________________________\n",
    "nodes = list()\n",
    "\n",
    "with open('results/' + domain_name + '_nodes_tags.csv') as nodes_csv:\n",
    "    nodes_reader = csv.DictReader(nodes_csv)\n",
    "    for row in nodes_reader:\n",
    "        if (row['id'] not in nodes):\n",
    "            nodes.append(row['id'])\n",
    "\n",
    "\n",
    "## remove edges____________________________________________\n",
    "\n",
    "edges_csv = open('results/' + domain_name + '_edges.csv', \"w\")\n",
    "edges_csv.write('Source,Target' + '\\n')\n",
    "\n",
    "n_old_edges = 0\n",
    "n_remaining_edges = 0\n",
    "\n",
    "with open('results/' + domain_name + '_edges_all.csv') as edges_all_csv:\n",
    "    edges_reader = csv.DictReader(edges_all_csv)\n",
    "    \n",
    "    for row in edges_reader:\n",
    "        n_old_edges += 1\n",
    "        \n",
    "        if ((row['Source'] in nodes) and (row['Target'] in nodes)):\n",
    "            if row['Source'] != row['Target']:\n",
    "                \n",
    "                edges_csv.write(str(row['Source']) + \",\" + str(row['Target']) + '\\n')\n",
    "                n_remaining_edges += 1\n",
    "\n",
    "\n",
    "print(\"n_old_edges:\",n_old_edges, \"   ---   n_remaining_edges:\", n_remaining_edges, \"   ---   left:\", n_remaining_edges / n_old_edges , \"%\")\n",
    "        \n",
    "        \n",
    "nodes_csv.close()     \n",
    "edges_csv.close()\n",
    "edges_all_csv.close()"
   ]
  },
  {
   "cell_type": "code",
   "execution_count": null,
   "metadata": {},
   "outputs": [],
   "source": []
  }
 ],
 "metadata": {
  "kernelspec": {
   "display_name": "Python 3",
   "language": "python",
   "name": "python3"
  },
  "language_info": {
   "codemirror_mode": {
    "name": "ipython",
    "version": 3
   },
   "file_extension": ".py",
   "mimetype": "text/x-python",
   "name": "python",
   "nbconvert_exporter": "python",
   "pygments_lexer": "ipython3",
   "version": "3.7.0"
  }
 },
 "nbformat": 4,
 "nbformat_minor": 2
}
